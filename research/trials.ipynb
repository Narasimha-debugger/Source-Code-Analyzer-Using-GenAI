{
 "cells": [
  {
   "cell_type": "code",
   "execution_count": 2,
   "metadata": {},
   "outputs": [
    {
     "name": "stdout",
     "output_type": "stream",
     "text": [
      "Note: you may need to restart the kernel to use updated packages.\n"
     ]
    },
    {
     "name": "stderr",
     "output_type": "stream",
     "text": [
      "ERROR: Ignored the following versions that require a different python version: 0.0.1 Requires-Python >=3.9,<4.0; 0.0.10rc0 Requires-Python >=3.9,<4.0; 0.0.11 Requires-Python >=3.9,<4.0; 0.0.1rc0 Requires-Python >=3.9,<4.0; 0.0.2 Requires-Python >=3.9,<4.0; 0.0.3 Requires-Python >=3.9,<4.0; 0.0.4 Requires-Python >=3.9,<4.0; 0.0.5 Requires-Python >=3.9,<4.0; 0.0.6 Requires-Python >=3.9,<4.0; 0.0.7 Requires-Python >=3.9,<4.0; 0.0.8 Requires-Python >=3.9,<4.0; 0.0.9 Requires-Python >=3.9,<4.0; 1.0.1 Requires-Python <4.0,>=3.9; 1.0.2 Requires-Python <4.0,>=3.9\n",
      "ERROR: Could not find a version that satisfies the requirement langchain-google-genai (from versions: none)\n",
      "ERROR: No matching distribution found for langchain-google-genai\n"
     ]
    }
   ],
   "source": [
    "%pip install --upgrade --quiet  langchain-google-genai pillow"
   ]
  },
  {
   "cell_type": "code",
   "execution_count": 4,
   "metadata": {},
   "outputs": [],
   "source": [
    "from git import Repo\n",
    "from langchain.text_splitter import Language\n",
    "from langchain.document_loaders.generic import GenericLoader   #Generic loaded to load any code base through langchain\n",
    "from langchain.document_loaders.parsers import  LanguageParser\n",
    "from langchain.text_splitter import RecursiveCharacterTextSplitter\n",
    "from langchain.embeddings.huggingface_hub import HuggingFaceHubEmbeddings\n",
    "from langchain.vectorstores import Chroma\n",
    "# from langchain_google_genai import ChatGoogleGenerativeAI\n",
    "from langchain.chat_models import  ChatGooglePalm\n",
    "from langchain.memory import ConversationSummaryMemory\n",
    "from langchain.chains import ConversationalRetrievalChain"
   ]
  },
  {
   "cell_type": "code",
   "execution_count": 5,
   "metadata": {},
   "outputs": [
    {
     "data": {
      "text/plain": [
       "'c:\\\\Users\\\\nagan\\\\OneDrive\\\\Desktop\\\\Ineuron_Gen_AI_Course\\\\Projects\\\\In_Class_Projects\\\\Source-Code-Analyzer-Using-GenAI\\\\research'"
      ]
     },
     "execution_count": 5,
     "metadata": {},
     "output_type": "execute_result"
    }
   ],
   "source": [
    "## Clone Github Repos\n",
    "%pwd"
   ]
  },
  {
   "cell_type": "code",
   "execution_count": 6,
   "metadata": {},
   "outputs": [],
   "source": [
    "!mkdir test_repo"
   ]
  },
  {
   "cell_type": "code",
   "execution_count": 7,
   "metadata": {},
   "outputs": [
    {
     "data": {
      "text/plain": [
       "<git.repo.base.Repo 'c:\\\\Users\\\\nagan\\\\OneDrive\\\\Desktop\\\\Ineuron_Gen_AI_Course\\\\Projects\\\\In_Class_Projects\\\\Source-Code-Analyzer-Using-GenAI\\\\research\\\\test_repo\\\\.git'>"
      ]
     },
     "execution_count": 7,
     "metadata": {},
     "output_type": "execute_result"
    }
   ],
   "source": [
    "Repo.clone_from('https://github.com/entbappy/End-to-end-ML-Project-Implementation.git',to_path='test_repo/')"
   ]
  },
  {
   "cell_type": "code",
   "execution_count": null,
   "metadata": {},
   "outputs": [],
   "source": []
  }
 ],
 "metadata": {
  "kernelspec": {
   "display_name": "llmapp",
   "language": "python",
   "name": "python3"
  },
  "language_info": {
   "codemirror_mode": {
    "name": "ipython",
    "version": 3
   },
   "file_extension": ".py",
   "mimetype": "text/x-python",
   "name": "python",
   "nbconvert_exporter": "python",
   "pygments_lexer": "ipython3",
   "version": "3.8.19"
  }
 },
 "nbformat": 4,
 "nbformat_minor": 2
}
